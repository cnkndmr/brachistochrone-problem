{
 "cells": [
  {
   "cell_type": "code",
   "execution_count": 1,
   "metadata": {},
   "outputs": [],
   "source": [
    "import numpy as np\n",
    "import matplotlib.pyplot as plt\n",
    "from sympy import *\n",
    "from sympy.physics import mechanics\n",
    "mechanics.mechanics_printing()\n",
    "y = mechanics.dynamicsymbols('y')\n",
    "t = Symbol('t')\n",
    "g = Symbol('g')\n",
    "C = Symbol('C')"
   ]
  },
  {
   "cell_type": "code",
   "execution_count": 2,
   "metadata": {},
   "outputs": [
    {
     "data": {
      "image/png": "[encoded data removed]",
      "text/latex": [
       "$\\displaystyle \\frac{\\sqrt{2} \\sqrt{\\dot{y}^{2} + 1}}{2 \\sqrt{g y}}$"
      ],
      "text/plain": [
       "      ________\n",
       "     ╱  2     \n",
       "√2⋅╲╱ ẏ  + 1 \n",
       "──────────────\n",
       "      _____   \n",
       "  2⋅╲╱ g⋅y    "
      ]
     },
     "execution_count": 2,
     "metadata": {},
     "output_type": "execute_result"
    }
   ],
   "source": [
    "f = sqrt(1 + diff(y)**2) / sqrt(2 * g * y)\n",
    "f"
   ]
  },
  {
   "cell_type": "code",
   "execution_count": 3,
   "metadata": {},
   "outputs": [
    {
     "data": {
      "image/png": "[encoded data removed]",
      "text/latex": [
       "$\\displaystyle - \\frac{\\sqrt{2 \\dot{y}^{2} + 2}}{4 \\sqrt{g y} y}$"
      ],
      "text/plain": [
       "    __________ \n",
       "   ╱    2      \n",
       "-╲╱ 2⋅ẏ  + 2  \n",
       "───────────────\n",
       "      _____    \n",
       "  4⋅╲╱ g⋅y ⋅y  "
      ]
     },
     "execution_count": 3,
     "metadata": {},
     "output_type": "execute_result"
    }
   ],
   "source": [
    "eq1 = diff(f, y).simplify()\n",
    "eq1"
   ]
  },
  {
   "cell_type": "code",
   "execution_count": 4,
   "metadata": {},
   "outputs": [
    {
     "data": {
      "image/png": "[encoded data removed]",
      "text/latex": [
       "$\\displaystyle \\frac{\\sqrt{2} \\dot{y}}{2 \\sqrt{g y} \\sqrt{\\dot{y}^{2} + 1}}$"
      ],
      "text/plain": [
       "        √2⋅ẏ        \n",
       "─────────────────────\n",
       "             ________\n",
       "    _____   ╱  2     \n",
       "2⋅╲╱ g⋅y ⋅╲╱ ẏ  + 1 "
      ]
     },
     "execution_count": 4,
     "metadata": {},
     "output_type": "execute_result"
    }
   ],
   "source": [
    "eq2 = diff(f, diff(y)).simplify()\n",
    "eq2"
   ]
  },
  {
   "cell_type": "code",
   "execution_count": 5,
   "metadata": {},
   "outputs": [
    {
     "data": {
      "image/png": "[encoded data removed]",
      "text/latex": [
       "$\\displaystyle - \\frac{\\sqrt{\\dot{y}^{2} + 1}}{2 y^{\\frac{3}{2}}}$"
      ],
      "text/plain": [
       "    ________ \n",
       "   ╱  2      \n",
       "-╲╱ ẏ  + 1  \n",
       "─────────────\n",
       "       3/2   \n",
       "    2⋅y      "
      ]
     },
     "execution_count": 5,
     "metadata": {},
     "output_type": "execute_result"
    }
   ],
   "source": [
    "eq1 *= sqrt(2 * g * y)\n",
    "eq1 /= sqrt(y)\n",
    "eq1 = eq1.simplify()\n",
    "eq1"
   ]
  },
  {
   "cell_type": "code",
   "execution_count": 6,
   "metadata": {},
   "outputs": [
    {
     "data": {
      "image/png": "[encoded data removed]",
      "text/latex": [
       "$\\displaystyle \\frac{\\dot{y}}{\\sqrt{\\dot{y}^{2} + 1} \\sqrt{y}}$"
      ],
      "text/plain": [
       "      ẏ      \n",
       "──────────────\n",
       "   ________   \n",
       "  ╱  2        \n",
       "╲╱ ẏ  + 1 ⋅√y"
      ]
     },
     "execution_count": 6,
     "metadata": {},
     "output_type": "execute_result"
    }
   ],
   "source": [
    "eq2 *= sqrt(2 * g * y)\n",
    "eq2 /= sqrt(y)\n",
    "eq2 = eq2.simplify()\n",
    "eq2"
   ]
  },
  {
   "cell_type": "code",
   "execution_count": 7,
   "metadata": {},
   "outputs": [
    {
     "data": {
      "image/png": "[encoded data removed]",
      "text/latex": [
       "$\\displaystyle \\frac{2 y \\ddot{y} + \\dot{y}^{2} + 1}{2 \\left(\\dot{y}^{2} + 1\\right)^{\\frac{3}{2}} y^{\\frac{3}{2}}}$"
      ],
      "text/plain": [
       "           2      \n",
       " 2⋅y⋅ÿ + ẏ  + 1 \n",
       "──────────────────\n",
       "          3/2     \n",
       "  ⎛ 2    ⎞     3/2\n",
       "2⋅⎝ẏ  + 1⎠   ⋅y   "
      ]
     },
     "execution_count": 7,
     "metadata": {},
     "output_type": "execute_result"
    }
   ],
   "source": [
    "f2 = (diff(eq2, t) - eq1).simplify()\n",
    "f2"
   ]
  },
  {
   "cell_type": "code",
   "execution_count": 8,
   "metadata": {},
   "outputs": [
    {
     "data": {
      "image/png": "[encoded data removed]",
      "text/latex": [
       "$\\displaystyle 2 y \\ddot{y} + \\dot{y}^{2} + 1$"
      ],
      "text/plain": [
       "         2    \n",
       "2⋅y⋅ÿ + ẏ  + 1"
      ]
     },
     "execution_count": 8,
     "metadata": {},
     "output_type": "execute_result"
    }
   ],
   "source": [
    "subs_cons = 2 * y**(3/2) * (diff(y, t)**2 + 1)**(3/2)\n",
    "f3 = f2 * subs_cons\n",
    "f3"
   ]
  },
  {
   "cell_type": "code",
   "execution_count": 9,
   "metadata": {},
   "outputs": [
    {
     "data": {
      "image/png": "[encoded data removed]",
      "text/latex": [
       "$\\displaystyle - C + y \\dot{y}^{2} + y$"
      ],
      "text/plain": [
       "        2    \n",
       "-C + y⋅ẏ  + y"
      ]
     },
     "execution_count": 9,
     "metadata": {},
     "output_type": "execute_result"
    }
   ],
   "source": [
    "f4 = y + y * diff(y, t)**2 - C\n",
    "f4"
   ]
  },
  {
   "cell_type": "code",
   "execution_count": 10,
   "metadata": {},
   "outputs": [
    {
     "data": {
      "image/png": "[encoded data removed]",
      "text/latex": [
       "$\\displaystyle \\sqrt{\\frac{y}{C - y}}$"
      ],
      "text/plain": [
       "    _______\n",
       "   ╱   y   \n",
       "  ╱  ───── \n",
       "╲╱   C - y "
      ]
     },
     "execution_count": 10,
     "metadata": {},
     "output_type": "execute_result"
    }
   ],
   "source": [
    "cons = solve(f4, 1/diff(y))[1]\n",
    "cons"
   ]
  },
  {
   "cell_type": "code",
   "execution_count": 11,
   "metadata": {},
   "outputs": [
    {
     "data": {
      "image/png": "[encoded data removed]",
      "text/latex": [
       "$\\displaystyle C \\operatorname{sin}^{2}\\left(t\\right)$"
      ],
      "text/plain": [
       "     2   \n",
       "C⋅sin (t)"
      ]
     },
     "execution_count": 11,
     "metadata": {},
     "output_type": "execute_result"
    }
   ],
   "source": [
    "subs_par1 = (C * sin(t)**2)\n",
    "subs_par1"
   ]
  },
  {
   "cell_type": "code",
   "execution_count": 12,
   "metadata": {},
   "outputs": [
    {
     "data": {
      "image/png": "[encoded data removed]",
      "text/latex": [
       "$\\displaystyle \\sqrt{\\frac{C \\operatorname{sin}^{2}\\left(t\\right)}{- C \\operatorname{sin}^{2}\\left(t\\right) + C}}$"
      ],
      "text/plain": [
       "      _________________\n",
       "     ╱         2       \n",
       "    ╱     C⋅sin (t)    \n",
       "   ╱   ─────────────── \n",
       "  ╱           2        \n",
       "╲╱     - C⋅sin (t) + C "
      ]
     },
     "execution_count": 12,
     "metadata": {},
     "output_type": "execute_result"
    }
   ],
   "source": [
    "f5 = cons.subs(y, subs_par1)\n",
    "f5"
   ]
  },
  {
   "cell_type": "code",
   "execution_count": 13,
   "metadata": {},
   "outputs": [
    {
     "data": {
      "image/png": "[encoded data removed]",
      "text/latex": [
       "$\\displaystyle 2 C \\sqrt{\\frac{C \\operatorname{sin}^{2}\\left(t\\right)}{- C \\operatorname{sin}^{2}\\left(t\\right) + C}} \\operatorname{sin}\\left(t\\right) \\operatorname{cos}\\left(t\\right)$"
      ],
      "text/plain": [
       "          _________________              \n",
       "         ╱         2                     \n",
       "        ╱     C⋅sin (t)                  \n",
       "2⋅C⋅   ╱   ─────────────── ⋅sin(t)⋅cos(t)\n",
       "      ╱           2                      \n",
       "    ╲╱     - C⋅sin (t) + C               "
      ]
     },
     "execution_count": 13,
     "metadata": {},
     "output_type": "execute_result"
    }
   ],
   "source": [
    "cons2 = f5 * diff(C * sin(t)**2, t)\n",
    "cons2"
   ]
  },
  {
   "cell_type": "code",
   "execution_count": 14,
   "metadata": {},
   "outputs": [
    {
     "data": {
      "image/png": "[encoded data removed]",
      "text/latex": [
       "$\\displaystyle \\sqrt{\\frac{C \\operatorname{sin}^{2}\\left(t\\right)}{- C \\operatorname{sin}^{2}\\left(t\\right) + C}} \\operatorname{sin}\\left(t\\right) \\operatorname{cos}\\left(t\\right)$"
      ],
      "text/plain": [
       "      _________________              \n",
       "     ╱         2                     \n",
       "    ╱     C⋅sin (t)                  \n",
       "   ╱   ─────────────── ⋅sin(t)⋅cos(t)\n",
       "  ╱           2                      \n",
       "╲╱     - C⋅sin (t) + C               "
      ]
     },
     "execution_count": 14,
     "metadata": {},
     "output_type": "execute_result"
    }
   ],
   "source": [
    "cons3 = cons2 / (2 * C)\n",
    "cons3"
   ]
  },
  {
   "cell_type": "code",
   "execution_count": 15,
   "metadata": {},
   "outputs": [
    {
     "data": {
      "image/png": "[encoded data removed]",
      "text/latex": [
       "$\\displaystyle C \\left(t - \\frac{\\operatorname{sin}\\left(2 t\\right)}{2}\\right)$"
      ],
      "text/plain": [
       "  ⎛    sin(2⋅t)⎞\n",
       "C⋅⎜t - ────────⎟\n",
       "  ⎝       2    ⎠"
      ]
     },
     "execution_count": 15,
     "metadata": {},
     "output_type": "execute_result"
    }
   ],
   "source": [
    "Integral(cons2.subs(cons3, sin(t)**2), t).doit().simplify()"
   ]
  }
 ],
 "metadata": {
  "kernelspec": {
   "display_name": "Python 3",
   "language": "python",
   "name": "python3"
  },
  "language_info": {
   "codemirror_mode": {
    "name": "ipython",
    "version": 3
   },
   "file_extension": ".py",
   "mimetype": "text/x-python",
   "name": "python",
   "nbconvert_exporter": "python",
   "pygments_lexer": "ipython3",
   "version": "3.7.7"
  }
 },
 "nbformat": 4,
 "nbformat_minor": 4
}
