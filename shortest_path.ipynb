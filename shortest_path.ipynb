{
 "cells": [
  {
   "cell_type": "markdown",
   "metadata": {},
   "source": [
    "# Brachistochrone problem"
   ]
  },
  {
   "cell_type": "code",
   "execution_count": 1,
   "metadata": {},
   "outputs": [],
   "source": [
    "from sympy import *\n",
    "from sympy.physics import mechanics\n",
    "mechanics.mechanics_printing()\n",
    "t = Symbol('t')\n",
    "y = Function('y')(t)\n",
    "g = Symbol('g')\n",
    "C = Symbol('C')"
   ]
  },
  {
   "cell_type": "markdown",
   "metadata": {},
   "source": [
    "Brachistochrone problem defined by equation shown below"
   ]
  },
  {
   "cell_type": "code",
   "execution_count": 2,
   "metadata": {},
   "outputs": [
    {
     "data": {
      "image/png": "[encoded data removed]",
      "text/latex": [
       "$\\displaystyle \\frac{\\sqrt{2} \\sqrt{\\dot{y}^{2} + 1}}{2 \\sqrt{g y}}$"
      ],
      "text/plain": [
       "      ________\n",
       "     ╱  2     \n",
       "√2⋅╲╱ ẏ  + 1 \n",
       "──────────────\n",
       "      _____   \n",
       "  2⋅╲╱ g⋅y    "
      ]
     },
     "execution_count": 2,
     "metadata": {},
     "output_type": "execute_result"
    }
   ],
   "source": [
    "f = sqrt(1 + diff(y)**2) / sqrt(2 * g * y)\n",
    "f"
   ]
  },
  {
   "cell_type": "markdown",
   "metadata": {},
   "source": [
    "Then we take the derivative of the equation respect to $y$"
   ]
  },
  {
   "cell_type": "code",
   "execution_count": 3,
   "metadata": {},
   "outputs": [
    {
     "data": {
      "image/png": "[encoded data removed]",
      "text/latex": [
       "$\\displaystyle - \\frac{\\sqrt{2} \\sqrt{\\dot{y}^{2} + 1}}{4 \\sqrt{g y} y}$"
      ],
      "text/plain": [
       "       ________ \n",
       "      ╱  2      \n",
       "-√2⋅╲╱ ẏ  + 1  \n",
       "────────────────\n",
       "      _____     \n",
       "  4⋅╲╱ g⋅y ⋅y   "
      ]
     },
     "execution_count": 3,
     "metadata": {},
     "output_type": "execute_result"
    }
   ],
   "source": [
    "lhs = diff(f, y)\n",
    "lhs"
   ]
  },
  {
   "cell_type": "markdown",
   "metadata": {},
   "source": [
    "Then we take the derivative of the equation respect to $y^{'}$"
   ]
  },
  {
   "cell_type": "code",
   "execution_count": 4,
   "metadata": {},
   "outputs": [
    {
     "data": {
      "image/png": "[encoded data removed]",
      "text/latex": [
       "$\\displaystyle \\frac{\\sqrt{2} \\dot{y}}{2 \\sqrt{g y} \\sqrt{\\dot{y}^{2} + 1}}$"
      ],
      "text/plain": [
       "        √2⋅ẏ        \n",
       "─────────────────────\n",
       "             ________\n",
       "    _____   ╱  2     \n",
       "2⋅╲╱ g⋅y ⋅╲╱ ẏ  + 1 "
      ]
     },
     "execution_count": 4,
     "metadata": {},
     "output_type": "execute_result"
    }
   ],
   "source": [
    "rhs = diff(f, diff(y))\n",
    "rhs"
   ]
  },
  {
   "cell_type": "markdown",
   "metadata": {},
   "source": [
    "Now we can substitude both equations from $\\sqrt{2g}$"
   ]
  },
  {
   "cell_type": "code",
   "execution_count": 5,
   "metadata": {},
   "outputs": [
    {
     "data": {
      "image/png": "[encoded data removed]",
      "text/latex": [
       "$\\displaystyle - \\frac{\\sqrt{\\dot{y}^{2} + 1}}{2 y^{\\frac{3}{2}}}$"
      ],
      "text/plain": [
       "    ________ \n",
       "   ╱  2      \n",
       "-╲╱ ẏ  + 1  \n",
       "─────────────\n",
       "       3/2   \n",
       "    2⋅y      "
      ]
     },
     "metadata": {},
     "output_type": "display_data"
    },
    {
     "data": {
      "image/png": "[encoded data removed]",
      "text/latex": [
       "$\\displaystyle \\frac{\\dot{y}}{\\sqrt{\\dot{y}^{2} + 1} \\sqrt{y}}$"
      ],
      "text/plain": [
       "      ẏ      \n",
       "──────────────\n",
       "   ________   \n",
       "  ╱  2        \n",
       "╲╱ ẏ  + 1 ⋅√y"
      ]
     },
     "metadata": {},
     "output_type": "display_data"
    }
   ],
   "source": [
    "lhs, rhs = lhs.subs(sqrt(g), 1) * sqrt(2), rhs.subs(sqrt(g), 1) * sqrt(2)\n",
    "display(lhs, rhs)"
   ]
  },
  {
   "cell_type": "markdown",
   "metadata": {},
   "source": [
    "And now we can build last form of our equation"
   ]
  },
  {
   "cell_type": "code",
   "execution_count": 6,
   "metadata": {},
   "outputs": [
    {
     "data": {
      "image/png": "[encoded data removed]",
      "text/latex": [
       "$\\displaystyle \\frac{\\sqrt{\\dot{y}^{2} + 1}}{2 y^{\\frac{3}{2}}} + \\frac{\\ddot{y}}{\\sqrt{\\dot{y}^{2} + 1} \\sqrt{y}} - \\frac{\\dot{y}^{2}}{2 \\sqrt{\\dot{y}^{2} + 1} y^{\\frac{3}{2}}} - \\frac{\\dot{y}^{2} \\ddot{y}}{\\left(\\dot{y}^{2} + 1\\right)^{\\frac{3}{2}} \\sqrt{y}}$"
      ],
      "text/plain": [
       "   ________                                                       \n",
       "  ╱  2                                 2                 2        \n",
       "╲╱ ẏ  + 1          ÿ                ẏ                ẏ ⋅ÿ    \n",
       "─────────── + ────────────── - ────────────────── - ──────────────\n",
       "      3/2        ________           ________                3/2   \n",
       "   2⋅y          ╱  2               ╱  2       3/2   ⎛ 2    ⎞      \n",
       "              ╲╱ ẏ  + 1 ⋅√y   2⋅╲╱ ẏ  + 1 ⋅y      ⎝ẏ  + 1⎠   ⋅√y"
      ]
     },
     "execution_count": 6,
     "metadata": {},
     "output_type": "execute_result"
    }
   ],
   "source": [
    "diff(rhs, t) - lhs"
   ]
  },
  {
   "cell_type": "markdown",
   "metadata": {},
   "source": [
    "Which can be simplified as down below"
   ]
  },
  {
   "cell_type": "code",
   "execution_count": 7,
   "metadata": {},
   "outputs": [
    {
     "data": {
      "image/png": "[encoded data removed]",
      "text/latex": [
       "$\\displaystyle \\frac{2 y \\ddot{y} + \\dot{y}^{2} + 1}{2 \\left(\\dot{y}^{2} + 1\\right)^{\\frac{3}{2}} y^{\\frac{3}{2}}}$"
      ],
      "text/plain": [
       "           2      \n",
       " 2⋅y⋅ÿ + ẏ  + 1 \n",
       "──────────────────\n",
       "          3/2     \n",
       "  ⎛ 2    ⎞     3/2\n",
       "2⋅⎝ẏ  + 1⎠   ⋅y   "
      ]
     },
     "execution_count": 7,
     "metadata": {},
     "output_type": "execute_result"
    }
   ],
   "source": [
    "eq1 = (diff(rhs, t) - lhs).simplify()\n",
    "eq1"
   ]
  },
  {
   "cell_type": "markdown",
   "metadata": {},
   "source": [
    "We can substitute equation with terms"
   ]
  },
  {
   "cell_type": "code",
   "execution_count": 8,
   "metadata": {},
   "outputs": [
    {
     "data": {
      "image/png": "[encoded data removed]",
      "text/latex": [
       "$\\displaystyle 2 \\left(\\dot{y}^{2} + 1\\right)^{1.5} y^{1.5}$"
      ],
      "text/plain": [
       "          1.5     \n",
       "  ⎛ 2    ⎞     1.5\n",
       "2⋅⎝ẏ  + 1⎠   ⋅y   "
      ]
     },
     "execution_count": 8,
     "metadata": {},
     "output_type": "execute_result"
    }
   ],
   "source": [
    "subs_cons2 = 2 * y**(3/2) * (diff(y, t)**2 + 1)**(3/2)\n",
    "subs_cons2"
   ]
  },
  {
   "cell_type": "markdown",
   "metadata": {},
   "source": [
    "And equation forms as this"
   ]
  },
  {
   "cell_type": "code",
   "execution_count": 9,
   "metadata": {},
   "outputs": [
    {
     "data": {
      "image/png": "[encoded data removed]",
      "text/latex": [
       "$\\displaystyle 2 y \\ddot{y} + \\dot{y}^{2} + 1$"
      ],
      "text/plain": [
       "         2    \n",
       "2⋅y⋅ÿ + ẏ  + 1"
      ]
     },
     "execution_count": 9,
     "metadata": {},
     "output_type": "execute_result"
    }
   ],
   "source": [
    "eq2 = (eq1 * subs_cons2).expand()\n",
    "eq2"
   ]
  },
  {
   "cell_type": "markdown",
   "metadata": {},
   "source": [
    "And now if we multiply equation with $y^{'}$"
   ]
  },
  {
   "cell_type": "code",
   "execution_count": 10,
   "metadata": {},
   "outputs": [
    {
     "data": {
      "image/png": "[encoded data removed]",
      "text/latex": [
       "$\\displaystyle 2 y \\dot{y} \\ddot{y} + \\dot{y}^{3} + \\dot{y}$"
      ],
      "text/plain": [
       "           3    \n",
       "2⋅y⋅ẏ⋅ÿ + ẏ  + ẏ"
      ]
     },
     "execution_count": 10,
     "metadata": {},
     "output_type": "execute_result"
    }
   ],
   "source": [
    "eq3 = ((eq2) * (diff(y, t))).expand()\n",
    "eq3"
   ]
  },
  {
   "cell_type": "markdown",
   "metadata": {},
   "source": [
    "Which is derivative of $ C = y {y^{'}}^{2} + y $"
   ]
  },
  {
   "cell_type": "code",
   "execution_count": 11,
   "metadata": {},
   "outputs": [
    {
     "data": {
      "image/png": "[encoded data removed]",
      "text/latex": [
       "$\\displaystyle - C + y \\dot{y}^{2} + y$"
      ],
      "text/plain": [
       "        2    \n",
       "-C + y⋅ẏ  + y"
      ]
     },
     "execution_count": 11,
     "metadata": {},
     "output_type": "execute_result"
    }
   ],
   "source": [
    "eq4 = y + y * diff(y)**2 - C\n",
    "eq4"
   ]
  },
  {
   "cell_type": "markdown",
   "metadata": {},
   "source": [
    "If we solve this equation for $y^{'}$ we obtain two equations"
   ]
  },
  {
   "cell_type": "code",
   "execution_count": 12,
   "metadata": {},
   "outputs": [
    {
     "data": {
      "image/png": "[encoded data removed]",
      "text/latex": [
       "$\\displaystyle \\left[ - \\sqrt{\\frac{C}{y} - 1}, \\  \\sqrt{\\frac{C}{y} - 1}\\right]$"
      ],
      "text/plain": [
       "⎡     _______      _______⎤\n",
       "⎢    ╱ C          ╱ C     ⎥\n",
       "⎢-  ╱  ─ - 1 ,   ╱  ─ - 1 ⎥\n",
       "⎣ ╲╱   y       ╲╱   y     ⎦"
      ]
     },
     "execution_count": 12,
     "metadata": {},
     "output_type": "execute_result"
    }
   ],
   "source": [
    "solve(eq4, diff(y))"
   ]
  },
  {
   "cell_type": "markdown",
   "metadata": {},
   "source": [
    "$y^{'}$ is $\\frac{dy}{dx}$ if we solve this equation for $dx$ we get $\\sqrt{\\frac{y}{C - y}} dy$"
   ]
  },
  {
   "cell_type": "code",
   "execution_count": 13,
   "metadata": {},
   "outputs": [
    {
     "data": {
      "image/png": "[encoded data removed]",
      "text/latex": [
       "$\\displaystyle \\left[ - \\sqrt{\\frac{y}{C - y}}, \\  \\sqrt{\\frac{y}{C - y}}\\right]$"
      ],
      "text/plain": [
       "⎡     _______      _______⎤\n",
       "⎢    ╱   y        ╱   y   ⎥\n",
       "⎢-  ╱  ───── ,   ╱  ───── ⎥\n",
       "⎣ ╲╱   C - y   ╲╱   C - y ⎦"
      ]
     },
     "execution_count": 13,
     "metadata": {},
     "output_type": "execute_result"
    }
   ],
   "source": [
    "solve(eq4, 1/diff(y))"
   ]
  },
  {
   "cell_type": "markdown",
   "metadata": {},
   "source": [
    "We only take the positive part of the equation"
   ]
  },
  {
   "cell_type": "code",
   "execution_count": 14,
   "metadata": {},
   "outputs": [
    {
     "data": {
      "image/png": "[encoded data removed]",
      "text/latex": [
       "$\\displaystyle \\sqrt{\\frac{y}{C - y}}$"
      ],
      "text/plain": [
       "    _______\n",
       "   ╱   y   \n",
       "  ╱  ───── \n",
       "╲╱   C - y "
      ]
     },
     "execution_count": 14,
     "metadata": {},
     "output_type": "execute_result"
    }
   ],
   "source": [
    "eq5 = solve(eq4, 1/diff(y))[1]\n",
    "eq5"
   ]
  },
  {
   "cell_type": "markdown",
   "metadata": {},
   "source": [
    "In this equation we can substitude $y = Csin^{2}(t)$\""
   ]
  },
  {
   "cell_type": "code",
   "execution_count": 15,
   "metadata": {},
   "outputs": [
    {
     "data": {
      "image/png": "[encoded data removed]",
      "text/latex": [
       "$\\displaystyle \\left[ y, \\  C \\operatorname{sin}^{2}\\left(t\\right)\\right]$"
      ],
      "text/plain": [
       "⎡        2   ⎤\n",
       "⎣y, C⋅sin (t)⎦"
      ]
     },
     "execution_count": 15,
     "metadata": {},
     "output_type": "execute_result"
    }
   ],
   "source": [
    "subs_par1 = [y,\n",
    "             C * sin(t)**2]\n",
    "subs_par1"
   ]
  },
  {
   "cell_type": "markdown",
   "metadata": {},
   "source": [
    "$\\sqrt{\\frac{y}{C - y}}$ turns to"
   ]
  },
  {
   "cell_type": "code",
   "execution_count": 16,
   "metadata": {},
   "outputs": [
    {
     "data": {
      "image/png": "[encoded data removed]",
      "text/latex": [
       "$\\displaystyle \\sqrt{\\frac{C \\operatorname{sin}^{2}\\left(t\\right)}{- C \\operatorname{sin}^{2}\\left(t\\right) + C}}$"
      ],
      "text/plain": [
       "      _________________\n",
       "     ╱         2       \n",
       "    ╱     C⋅sin (t)    \n",
       "   ╱   ─────────────── \n",
       "  ╱           2        \n",
       "╲╱     - C⋅sin (t) + C "
      ]
     },
     "execution_count": 16,
     "metadata": {},
     "output_type": "execute_result"
    }
   ],
   "source": [
    "eq5.subs(subs_par1[0], subs_par1[1])"
   ]
  },
  {
   "cell_type": "markdown",
   "metadata": {},
   "source": [
    "and $dy$ can be written in terms of $dt$"
   ]
  },
  {
   "cell_type": "code",
   "execution_count": 17,
   "metadata": {},
   "outputs": [
    {
     "data": {
      "image/png": "[encoded data removed]",
      "text/latex": [
       "$\\displaystyle 2 C \\operatorname{sin}\\left(t\\right) \\operatorname{cos}\\left(t\\right)$"
      ],
      "text/plain": [
       "2⋅C⋅sin(t)⋅cos(t)"
      ]
     },
     "execution_count": 17,
     "metadata": {},
     "output_type": "execute_result"
    }
   ],
   "source": [
    "diff(subs_par1[1], t)"
   ]
  },
  {
   "cell_type": "markdown",
   "metadata": {},
   "source": [
    "Now result is integral of this equation be"
   ]
  },
  {
   "cell_type": "code",
   "execution_count": 18,
   "metadata": {},
   "outputs": [
    {
     "data": {
      "image/png": "[encoded data removed]",
      "text/latex": [
       "$\\displaystyle \\int 2 C \\sqrt{\\frac{C \\operatorname{sin}^{2}\\left(t\\right)}{- C \\operatorname{sin}^{2}\\left(t\\right) + C}} \\operatorname{sin}\\left(t\\right) \\operatorname{cos}\\left(t\\right)\\, dt$"
      ],
      "text/plain": [
       "⌠                                             \n",
       "⎮           _________________                 \n",
       "⎮          ╱         2                        \n",
       "⎮         ╱     C⋅sin (t)                     \n",
       "⎮ 2⋅C⋅   ╱   ─────────────── ⋅sin(t)⋅cos(t) dt\n",
       "⎮       ╱           2                         \n",
       "⎮     ╲╱     - C⋅sin (t) + C                  \n",
       "⌡                                             "
      ]
     },
     "metadata": {},
     "output_type": "display_data"
    }
   ],
   "source": [
    "eq6 = eq5.subs(subs_par1[0], subs_par1[1]) * diff(subs_par1[1], t)\n",
    "display(Integral(eq6, t))"
   ]
  },
  {
   "cell_type": "code",
   "execution_count": 19,
   "metadata": {},
   "outputs": [
    {
     "data": {
      "image/png": "[encoded data removed]",
      "text/latex": [
       "$\\displaystyle \\left[ \\sqrt{\\frac{C \\operatorname{sin}^{2}\\left(t\\right)}{- C \\operatorname{sin}^{2}\\left(t\\right) + C}} \\operatorname{cos}\\left(t\\right), \\  \\operatorname{sin}\\left(t\\right)\\right]$"
      ],
      "text/plain": [
       "⎡      _________________               ⎤\n",
       "⎢     ╱         2                      ⎥\n",
       "⎢    ╱     C⋅sin (t)                   ⎥\n",
       "⎢   ╱   ─────────────── ⋅cos(t), sin(t)⎥\n",
       "⎢  ╱           2                       ⎥\n",
       "⎣╲╱     - C⋅sin (t) + C                ⎦"
      ]
     },
     "execution_count": 19,
     "metadata": {},
     "output_type": "execute_result"
    }
   ],
   "source": [
    "subs_par2 = [sqrt(subs_par1[1] / (C - subs_par1[1])) * cos(t), \n",
    "             sin(t)]\n",
    "subs_par2"
   ]
  },
  {
   "cell_type": "markdown",
   "metadata": {},
   "source": [
    "If we substitude equation in to simple form it will be equal to"
   ]
  },
  {
   "cell_type": "code",
   "execution_count": 20,
   "metadata": {},
   "outputs": [
    {
     "data": {
      "image/png": "[encoded data removed]",
      "text/latex": [
       "$\\displaystyle \\int 2 C \\operatorname{sin}^{2}\\left(t\\right)\\, dt$"
      ],
      "text/plain": [
       "⌠               \n",
       "⎮        2      \n",
       "⎮ 2⋅C⋅sin (t) dt\n",
       "⌡               "
      ]
     },
     "metadata": {},
     "output_type": "display_data"
    }
   ],
   "source": [
    "display(Integral(eq6.subs(subs_par2[0], subs_par2[1]), t))"
   ]
  },
  {
   "cell_type": "markdown",
   "metadata": {},
   "source": [
    "And if we solve integral we get"
   ]
  },
  {
   "cell_type": "code",
   "execution_count": 21,
   "metadata": {},
   "outputs": [
    {
     "data": {
      "image/png": "[encoded data removed]",
      "text/latex": [
       "$\\displaystyle C \\left(t - \\frac{\\operatorname{sin}\\left(2 t\\right)}{2}\\right)$"
      ],
      "text/plain": [
       "  ⎛    sin(2⋅t)⎞\n",
       "C⋅⎜t - ────────⎟\n",
       "  ⎝       2    ⎠"
      ]
     },
     "execution_count": 21,
     "metadata": {},
     "output_type": "execute_result"
    }
   ],
   "source": [
    "sol_set = [Integral(eq6.subs(subs_par2[0], subs_par2[1]), t).doit().simplify()]\n",
    "sol_set[0]"
   ]
  },
  {
   "cell_type": "markdown",
   "metadata": {},
   "source": [
    "Now lets turn to our first substitution and apply some trigonometric substitution"
   ]
  },
  {
   "cell_type": "code",
   "execution_count": 22,
   "metadata": {},
   "outputs": [
    {
     "data": {
      "image/png": "[encoded data removed]",
      "text/latex": [
       "$\\displaystyle \\left[ \\operatorname{sin}^{2}\\left(t\\right), \\  \\frac{1}{2} - \\frac{\\operatorname{cos}\\left(2 t\\right)}{2}\\right]$"
      ],
      "text/plain": [
       "⎡   2     1   cos(2⋅t)⎤\n",
       "⎢sin (t), ─ - ────────⎥\n",
       "⎣         2      2    ⎦"
      ]
     },
     "execution_count": 22,
     "metadata": {},
     "output_type": "execute_result"
    }
   ],
   "source": [
    "subs_par3 = [sin(t)**2,\n",
    "             (1 - cos(2*t))/2]\n",
    "subs_par3"
   ]
  },
  {
   "cell_type": "markdown",
   "metadata": {},
   "source": [
    "Finally it forms as"
   ]
  },
  {
   "cell_type": "code",
   "execution_count": 23,
   "metadata": {},
   "outputs": [
    {
     "data": {
      "image/png": "[encoded data removed]",
      "text/latex": [
       "$\\displaystyle \\left[ C \\left(t - \\frac{\\operatorname{sin}\\left(2 t\\right)}{2}\\right), \\  C \\left(\\frac{1}{2} - \\frac{\\operatorname{cos}\\left(2 t\\right)}{2}\\right)\\right]$"
      ],
      "text/plain": [
       "⎡  ⎛    sin(2⋅t)⎞    ⎛1   cos(2⋅t)⎞⎤\n",
       "⎢C⋅⎜t - ────────⎟, C⋅⎜─ - ────────⎟⎥\n",
       "⎣  ⎝       2    ⎠    ⎝2      2    ⎠⎦"
      ]
     },
     "execution_count": 23,
     "metadata": {},
     "output_type": "execute_result"
    }
   ],
   "source": [
    "sol_set.append(subs_par1[1].subs(subs_par3[0], subs_par3[1]))\n",
    "sol_set"
   ]
  },
  {
   "cell_type": "markdown",
   "metadata": {},
   "source": [
    "Now if we substitude solutions as $C=1$ and $t=\\frac{t}{2}$ we get"
   ]
  },
  {
   "cell_type": "code",
   "execution_count": 24,
   "metadata": {},
   "outputs": [
    {
     "data": {
      "image/png": "[encoded data removed]",
      "text/latex": [
       "$\\displaystyle \\frac{t}{2} - \\frac{\\operatorname{sin}\\left(t\\right)}{2}$"
      ],
      "text/plain": [
       "t   sin(t)\n",
       "─ - ──────\n",
       "2     2   "
      ]
     },
     "metadata": {},
     "output_type": "display_data"
    },
    {
     "data": {
      "image/png": "[encoded data removed]",
      "text/latex": [
       "$\\displaystyle \\frac{1}{2} - \\frac{\\operatorname{cos}\\left(t\\right)}{2}$"
      ],
      "text/plain": [
       "1   cos(t)\n",
       "─ - ──────\n",
       "2     2   "
      ]
     },
     "metadata": {},
     "output_type": "display_data"
    }
   ],
   "source": [
    "for i in range(len(sol_set)):\n",
    "    sol_set[i] = sol_set[i].subs([(C, 1), (t, t/2)])\n",
    "    display(sol_set[i])"
   ]
  },
  {
   "cell_type": "markdown",
   "metadata": {},
   "source": [
    "This the parametric equation and now if we plot this function"
   ]
  },
  {
   "cell_type": "code",
   "execution_count": 25,
   "metadata": {},
   "outputs": [
    {
     "data": {
      "image/png": "[encoded data removed]",
      "text/plain": [
       "<Figure size 432x288 with 1 Axes>"
      ]
     },
     "metadata": {
      "needs_background": "light"
     },
     "output_type": "display_data"
    },
    {
     "data": {
      "text/plain": [
       "<sympy.plotting.plot.Plot at 0x7f42d2392b90>"
      ]
     },
     "execution_count": 25,
     "metadata": {},
     "output_type": "execute_result"
    }
   ],
   "source": [
    "import sympy.plotting as plt\n",
    "%matplotlib inline\n",
    "plt.plot_parametric(sol_set[0], -sol_set[1], (t, 0, pi))"
   ]
  }
 ],
 "metadata": {
  "kernelspec": {
   "display_name": "Python 3",
   "language": "python",
   "name": "python3"
  },
  "language_info": {
   "codemirror_mode": {
    "name": "ipython",
    "version": 3
   },
   "file_extension": ".py",
   "mimetype": "text/x-python",
   "name": "python",
   "nbconvert_exporter": "python",
   "pygments_lexer": "ipython3",
   "version": "3.7.7"
  }
 },
 "nbformat": 4,
 "nbformat_minor": 4
}
