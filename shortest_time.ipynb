{
 "cells": [
  {
   "cell_type": "code",
   "execution_count": 1,
   "metadata": {},
   "outputs": [],
   "source": [
    "from sympy import *\n",
    "from sympy.physics import mechanics\n",
    "mechanics.mechanics_printing()\n",
    "x = Symbol('x')\n",
    "y = Function('y')(x)\n",
    "m = Symbol('m')\n",
    "v = Function('v')(x)\n",
    "s = Function('s')(x)\n",
    "g = Symbol('g')\n",
    "a = Symbol('a')\n",
    "C = Symbol('C')"
   ]
  },
  {
   "cell_type": "code",
   "execution_count": 2,
   "metadata": {},
   "outputs": [
    {
     "data": {
      "image/png": "[encoded data removed]",
      "text/latex": [
       "$\\displaystyle - g m \\operatorname{y}\\left(x\\right) + \\frac{m \\operatorname{v}^{2}\\left(x\\right)}{2}$"
      ],
      "text/plain": [
       "               2   \n",
       "            m⋅v (x)\n",
       "-g⋅m⋅y(x) + ───────\n",
       "               2   "
      ]
     },
     "execution_count": 2,
     "metadata": {},
     "output_type": "execute_result"
    }
   ],
   "source": [
    "eq = m*v**2 / 2 - m * g * y\n",
    "eq"
   ]
  },
  {
   "cell_type": "code",
   "execution_count": 3,
   "metadata": {},
   "outputs": [
    {
     "data": {
      "image/png": "[encoded data removed]",
      "text/latex": [
       "$\\displaystyle \\sqrt{2} \\sqrt{g \\operatorname{y}\\left(x\\right)}$"
      ],
      "text/plain": [
       "     ________\n",
       "√2⋅╲╱ g⋅y(x) "
      ]
     },
     "execution_count": 3,
     "metadata": {},
     "output_type": "execute_result"
    }
   ],
   "source": [
    "eq2 = solve(eq, v)[1]\n",
    "eq2"
   ]
  },
  {
   "cell_type": "code",
   "execution_count": 4,
   "metadata": {},
   "outputs": [
    {
     "data": {
      "image/png": "[encoded data removed]",
      "text/latex": [
       "$\\displaystyle \\operatorname{s}\\left(x\\right) - \\int\\limits_{0}^{x} \\sqrt{\\left(\\frac{d}{d x} y{\\left(x \\right)}\\right)^{2} + 1}\\, dx$"
      ],
      "text/plain": [
       "       x                          \n",
       "       ⌠                          \n",
       "       ⎮      _________________   \n",
       "       ⎮     ╱           2        \n",
       "       ⎮    ╱  ⎛d       ⎞         \n",
       "s(x) - ⎮   ╱   ⎜──(y(x))⎟  + 1  dx\n",
       "       ⎮ ╲╱    ⎝dx      ⎠         \n",
       "       ⌡                          \n",
       "       0                          "
      ]
     },
     "execution_count": 4,
     "metadata": {},
     "output_type": "execute_result"
    }
   ],
   "source": [
    "eq3 = s - Integral(sqrt(1 + diff(y)**2), (x, 0, x))\n",
    "eq3"
   ]
  },
  {
   "cell_type": "code",
   "execution_count": 5,
   "metadata": {},
   "outputs": [
    {
     "data": {
      "image/png": "[encoded data removed]",
      "text/latex": [
       "$\\displaystyle - \\sqrt{\\left(\\frac{d}{d x} y{\\left(x \\right)}\\right)^{2} + 1} + \\frac{d}{d x} s{\\left(x \\right)}$"
      ],
      "text/plain": [
       "       _________________           \n",
       "      ╱           2                \n",
       "     ╱  ⎛d       ⎞         d       \n",
       "-   ╱   ⎜──(y(x))⎟  + 1  + ──(s(x))\n",
       "  ╲╱    ⎝dx      ⎠         dx      "
      ]
     },
     "execution_count": 5,
     "metadata": {},
     "output_type": "execute_result"
    }
   ],
   "source": [
    "eq4 = diff(s, x) - sqrt(1 + diff(y)**2)\n",
    "eq4"
   ]
  },
  {
   "cell_type": "code",
   "execution_count": 6,
   "metadata": {},
   "outputs": [
    {
     "data": {
      "image/png": "[encoded data removed]",
      "text/latex": [
       "$\\displaystyle \\sqrt{\\left(\\frac{d}{d x} y{\\left(x \\right)}\\right)^{2} + 1}$"
      ],
      "text/plain": [
       "     _________________\n",
       "    ╱           2     \n",
       "   ╱  ⎛d       ⎞      \n",
       "  ╱   ⎜──(y(x))⎟  + 1 \n",
       "╲╱    ⎝dx      ⎠      "
      ]
     },
     "execution_count": 6,
     "metadata": {},
     "output_type": "execute_result"
    }
   ],
   "source": [
    "eq5 = solve(eq4, diff(s))[0]\n",
    "eq5"
   ]
  },
  {
   "cell_type": "code",
   "execution_count": 7,
   "metadata": {},
   "outputs": [
    {
     "data": {
      "image/png": "[encoded data removed]",
      "text/latex": [
       "$\\displaystyle \\int\\limits_{0}^{a} \\sqrt{\\left(\\frac{d}{d x} y{\\left(x \\right)}\\right)^{2} + 1}\\, dx$"
      ],
      "text/plain": [
       "a                          \n",
       "⌠                          \n",
       "⎮      _________________   \n",
       "⎮     ╱           2        \n",
       "⎮    ╱  ⎛d       ⎞         \n",
       "⎮   ╱   ⎜──(y(x))⎟  + 1  dx\n",
       "⎮ ╲╱    ⎝dx      ⎠         \n",
       "⌡                          \n",
       "0                          "
      ]
     },
     "execution_count": 7,
     "metadata": {},
     "output_type": "execute_result"
    }
   ],
   "source": [
    "eq6 = Integral(eq5, (x, 0, a))\n",
    "eq6"
   ]
  },
  {
   "cell_type": "code",
   "execution_count": 8,
   "metadata": {},
   "outputs": [
    {
     "data": {
      "image/png": "[encoded data removed]",
      "text/latex": [
       "$\\displaystyle \\int\\limits_{0}^{a} \\frac{\\sqrt{2} \\sqrt{\\left(\\frac{d}{d x} y{\\left(x \\right)}\\right)^{2} + 1}}{2 \\sqrt{g \\operatorname{y}\\left(x\\right)}}\\, dx$"
      ],
      "text/plain": [
       "a                             \n",
       "⌠                             \n",
       "⎮         _________________   \n",
       "⎮        ╱           2        \n",
       "⎮       ╱  ⎛d       ⎞         \n",
       "⎮ √2⋅  ╱   ⎜──(y(x))⎟  + 1    \n",
       "⎮    ╲╱    ⎝dx      ⎠         \n",
       "⎮ ───────────────────────── dx\n",
       "⎮            ________         \n",
       "⎮        2⋅╲╱ g⋅y(x)          \n",
       "⌡                             \n",
       "0                             "
      ]
     },
     "execution_count": 8,
     "metadata": {},
     "output_type": "execute_result"
    }
   ],
   "source": [
    "Integral(eq5/eq2, (x, 0, a)).subs([(a, 1), (g, 1)], (x, 0, a))"
   ]
  }
 ],
 "metadata": {
  "kernelspec": {
   "display_name": "Python 3",
   "language": "python",
   "name": "python3"
  },
  "language_info": {
   "codemirror_mode": {
    "name": "ipython",
    "version": 3
   },
   "file_extension": ".py",
   "mimetype": "text/x-python",
   "name": "python",
   "nbconvert_exporter": "python",
   "pygments_lexer": "ipython3",
   "version": "3.7.7"
  }
 },
 "nbformat": 4,
 "nbformat_minor": 4
}
